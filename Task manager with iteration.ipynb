{
 "cells": [
  {
   "cell_type": "code",
   "execution_count": null,
   "id": "afbba3a3-ca31-459f-80fb-94db9fc06da5",
   "metadata": {},
   "outputs": [
    {
     "name": "stdout",
     "output_type": "stream",
     "text": [
      "\n",
      "Task Manager\n",
      "1. Add Task\n",
      "2. Mark Task as Completed\n",
      "3. Remove Task\n",
      "4. Display All Tasks\n",
      "5. Display Tasks by Status\n",
      "6. Exit\n"
     ]
    },
    {
     "name": "stdin",
     "output_type": "stream",
     "text": [
      "Enter your choice (1-6):  1\n",
      "Enter task name:  trip\n",
      "Enter due date (YYYY-MM-DD):  2024-10-01\n"
     ]
    },
    {
     "name": "stdout",
     "output_type": "stream",
     "text": [
      "Task 'trip' added.\n",
      "\n",
      "\n",
      "Task Manager\n",
      "1. Add Task\n",
      "2. Mark Task as Completed\n",
      "3. Remove Task\n",
      "4. Display All Tasks\n",
      "5. Display Tasks by Status\n",
      "6. Exit\n"
     ]
    },
    {
     "name": "stdin",
     "output_type": "stream",
     "text": [
      "Enter your choice (1-6):  4\n"
     ]
    },
    {
     "name": "stdout",
     "output_type": "stream",
     "text": [
      "\n",
      "Tasks:\n",
      "Task: trip, Due Date: 2024-10-01, Status: incomplete\n",
      "\n",
      "Task Manager\n",
      "1. Add Task\n",
      "2. Mark Task as Completed\n",
      "3. Remove Task\n",
      "4. Display All Tasks\n",
      "5. Display Tasks by Status\n",
      "6. Exit\n"
     ]
    },
    {
     "name": "stdin",
     "output_type": "stream",
     "text": [
      "Enter your choice (1-6):  2\n",
      "Enter task name to mark as completed:  trip\n"
     ]
    },
    {
     "name": "stdout",
     "output_type": "stream",
     "text": [
      "Task 'trip' marked as completed.\n",
      "\n",
      "\n",
      "Task Manager\n",
      "1. Add Task\n",
      "2. Mark Task as Completed\n",
      "3. Remove Task\n",
      "4. Display All Tasks\n",
      "5. Display Tasks by Status\n",
      "6. Exit\n"
     ]
    },
    {
     "name": "stdin",
     "output_type": "stream",
     "text": [
      "Enter your choice (1-6):  5\n"
     ]
    },
    {
     "name": "stdout",
     "output_type": "stream",
     "text": [
      "\n",
      "Completed Tasks:\n",
      "Task: trip, Due Date: 2024-10-01\n",
      "\n",
      "Incomplete Tasks:\n",
      "\n",
      "Task Manager\n",
      "1. Add Task\n",
      "2. Mark Task as Completed\n",
      "3. Remove Task\n",
      "4. Display All Tasks\n",
      "5. Display Tasks by Status\n",
      "6. Exit\n"
     ]
    }
   ],
   "source": [
    "tasks = {}\n",
    "\n",
    "def add_task():\n",
    "    task_name = input(\"Enter task name: \")\n",
    "    due_date = input(\"Enter due date (YYYY-MM-DD): \")\n",
    "    tasks[task_name] = {'due_date': due_date, 'status': 'incomplete'}\n",
    "    print(f\"Task '{task_name}' added.\\n\")\n",
    "\n",
    "def mark_task_completed():\n",
    "    task_name = input(\"Enter task name to mark as completed: \")\n",
    "    if task_name in tasks and tasks[task_name]['status'] == 'incomplete':\n",
    "        tasks[task_name]['status'] = 'completed'\n",
    "        print(f\"Task '{task_name}' marked as completed.\\n\")\n",
    "    elif task_name not in tasks:\n",
    "        print(f\"Task '{task_name}' not found.\\n\")\n",
    "    else:\n",
    "        print(f\"Task '{task_name}' is already completed.\\n\")\n",
    "\n",
    "def remove_task():\n",
    "    task_name = input(\"Enter task name to remove: \")\n",
    "    if task_name in tasks:\n",
    "        del tasks[task_name]\n",
    "        print(f\"Task '{task_name}' removed.\\n\")\n",
    "    else:\n",
    "        print(f\"Task '{task_name}' not found.\\n\")\n",
    "\n",
    "def display_tasks():\n",
    "    if tasks:\n",
    "        print(\"\\nTasks:\")\n",
    "        for task_name, details in tasks.items():\n",
    "            status = details['status']\n",
    "            due_date = details['due_date']\n",
    "            print(f\"Task: {task_name}, Due Date: {due_date}, Status: {status}\")\n",
    "    else:\n",
    "        print(\"\\nNo tasks available.\\n\")\n",
    "\n",
    "def display_tasks_by_status():\n",
    "    print(\"\\nCompleted Tasks:\")\n",
    "    for task_name, details in tasks.items():\n",
    "        if details['status'] == 'completed':\n",
    "            print(f\"Task: {task_name}, Due Date: {details['due_date']}\")\n",
    "    \n",
    "    print(\"\\nIncomplete Tasks:\")\n",
    "    for task_name, details in tasks.items():\n",
    "        if details['status'] == 'incomplete':\n",
    "            print(f\"Task: {task_name}, Due Date: {details['due_date']}\")\n",
    "\n",
    "def menu():\n",
    "    while True:\n",
    "        print(\"\\nTask Manager\")\n",
    "        print(\"1. Add Task\")\n",
    "        print(\"2. Mark Task as Completed\")\n",
    "        print(\"3. Remove Task\")\n",
    "        print(\"4. Display All Tasks\")\n",
    "        print(\"5. Display Tasks by Status\")\n",
    "        print(\"6. Exit\")\n",
    "        \n",
    "        choice = input(\"Enter your choice (1-6): \")\n",
    "        \n",
    "        if choice == '1':\n",
    "            add_task()\n",
    "        elif choice == '2':\n",
    "            mark_task_completed()\n",
    "        elif choice == '3':\n",
    "            remove_task()\n",
    "        elif choice == '4':\n",
    "            display_tasks()\n",
    "        elif choice == '5':\n",
    "            display_tasks_by_status()\n",
    "        elif choice == '6':\n",
    "            print(\"Exiting Task Manager.\")\n",
    "            break\n",
    "        else:\n",
    "            print(\"Invalid choice. Please try again.\\n\")\n",
    "\n",
    "menu()\n",
    "\n",
    " \n"
   ]
  },
  {
   "cell_type": "code",
   "execution_count": null,
   "id": "248c77d8-256e-4eaf-93f6-cda72d7af047",
   "metadata": {},
   "outputs": [],
   "source": []
  }
 ],
 "metadata": {
  "kernelspec": {
   "display_name": "Python 3 (ipykernel)",
   "language": "python",
   "name": "python3"
  },
  "language_info": {
   "codemirror_mode": {
    "name": "ipython",
    "version": 3
   },
   "file_extension": ".py",
   "mimetype": "text/x-python",
   "name": "python",
   "nbconvert_exporter": "python",
   "pygments_lexer": "ipython3",
   "version": "3.12.4"
  }
 },
 "nbformat": 4,
 "nbformat_minor": 5
}
